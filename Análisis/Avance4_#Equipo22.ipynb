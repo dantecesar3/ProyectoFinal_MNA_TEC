{
 "cells": [
  {
   "cell_type": "markdown",
   "metadata": {},
   "source": [
    "# Avance 4. Modelos alternativos\n",
    "\n",
    "# Respuestas a las preguntas\n",
    "1. **Construir al menos 6 modelos diferentes (individuales, no ensambles), utilizando algoritmos variados.**\n",
    "   \n",
    "\n",
    "\n",
    "2. **Comparar el rendimiento de los modelos obtenido**\n",
    "\n",
    "\n",
    "![Etiquetado](evidencias_avance_3/etiquetado.png \"Etiquetado\")\n",
    "\n",
    "Ejecutamos el entrenamiento para generar nuestro modelo:\n",
    "\n",
    "\n",
    "3. **Seleccionar los dos modelos que proporcionen el mejor rendimiento**\n",
    "\n",
    "Se o\n",
    "\n",
    "**Posible Sobreajuste (Overfitting):**\n",
    "Aun\n",
    "\n",
    "**Recomendación:**\n",
    "Se \n",
    "\n",
    "4. **Ajustar los dos mejores modelos.**\n",
    "\n",
    "\n",
    "5. **Elegir el modelo individual final.**\n",
    "\n",
    "\n"
   ]
  },
  {
   "cell_type": "code",
   "execution_count": 5,
   "metadata": {},
   "outputs": [
    {
     "name": "stdout",
     "output_type": "stream",
     "text": [
      "Accuracy: 1.0\n",
      "F1 Score: 1.0\n",
      "AUC-ROC: 1.0\n"
     ]
    }
   ],
   "source": [
    "from sklearn.metrics import accuracy_score, f1_score, roc_auc_score\n",
    "\n",
    "# Supongamos que \"1\" representa una clasificación fna_ahorro y fondo_nacional_ahorro .\n",
    "y_true = [1, 1, 1, 1, 1, 0, 0, 1, 1]  # Etiquetas reales\n",
    "y_pred = [1, 1, 1, 1, 1, 0, 0, 1, 1]  # Etiquetas predichas\n",
    "\n",
    "# Calcular Accuracy y F1-score\n",
    "accuracy = accuracy_score(y_true, y_pred)\n",
    "f1 = f1_score(y_true, y_pred)\n",
    "\n",
    "# Para calcular AUC-ROC se requieren probabilidades predichas\n",
    "y_scores = [0.792, 0.773, 0.92, 0.9, 0.96, 0.416, 0.674, 0.783, 0.832]\n",
    "\n",
    "# Calcular AUC-ROC\n",
    "try:\n",
    "    auc = roc_auc_score(y_true, y_scores)\n",
    "except ValueError as e:\n",
    "    auc = None\n",
    "    print(\"No se pudo calcular AUC-ROC:\", e)\n",
    "\n",
    "print(\"Accuracy:\", accuracy)\n",
    "print(\"F1 Score:\", f1)\n",
    "print(\"AUC-ROC:\", auc)\n"
   ]
  },
  {
   "cell_type": "markdown",
   "metadata": {},
   "source": [
    "Estos resultados indican que, en el conjunto de prueba evaluado, el modelo ha logrado clasificar correctamente todas las instancias. En detalle:\n",
    "\n",
    "- **Accuracy** de 1.0: Significa que el modelo ha clasificado correctamente el 100% de los documentos.\n",
    "\n",
    "- **F1 Score** de 1.0: Refleja que tanto la precisión como el recall son perfectos, es decir, no hubo ni falsos positivos ni falsos negativos.\n",
    "\n",
    "- **AUC-ROC** de 1.0: Sugiere que el modelo tiene una capacidad ideal para diferenciar entre clases.\n",
    "\n",
    "Por lo cual estas 3 metricas nos permiten entender desde puntos de vistas distintos y mostrar que el modelo es muy bueno y cada uno complementa el entendimiento del mismo.\n",
    "\n",
    "5. **¿Cuál debería ser el desempeño mínimo a obtener?**\n",
    "\n",
    "Para el negocio, es fundamental que el sistema de clasificación alcance una precisión del 100% y un AUC-ROC cercano a 1.0. Esto garantiza que el modelo discrimine de manera óptima entre los documentos relevantes y los que no lo son, asegurando que únicamente aquellos correctamente clasificados sean procesados por el modelo de extracción. De esta forma, se mantiene la consistencia de los datos y se optimizan los recursos en etapas posteriores del procesamiento."
   ]
  }
 ],
 "metadata": {
  "kernelspec": {
   "display_name": "Python 3.9.7 ('.env': venv)",
   "language": "python",
   "name": "python3"
  },
  "language_info": {
   "codemirror_mode": {
    "name": "ipython",
    "version": 3
   },
   "file_extension": ".py",
   "mimetype": "text/x-python",
   "name": "python",
   "nbconvert_exporter": "python",
   "pygments_lexer": "ipython3",
   "version": "3.9.7"
  },
  "orig_nbformat": 4,
  "vscode": {
   "interpreter": {
    "hash": "842ea6a284c0768e4a2219e39e4f6378de4471fb64c90387f3eacce26856343b"
   }
  }
 },
 "nbformat": 4,
 "nbformat_minor": 2
}
