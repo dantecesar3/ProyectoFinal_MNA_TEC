{
 "cells": [
  {
   "cell_type": "markdown",
   "metadata": {},
   "source": [
    "# Avance 4. Modelos alternativos\n",
    "\n",
    "# Respuestas a las preguntas\n",
    "1. **Construir al menos 6 modelos diferentes (individuales, no ensambles), utilizando algoritmos variados.**\n",
    "   \n",
    "\n",
    "\n",
    "2. **Comparar el rendimiento de los modelos obtenido**\n",
    "\n",
    "\n",
    "![Etiquetado](evidencias_avance_3/etiquetado.png \"Etiquetado\")\n",
    "\n",
    "\n",
    "\n",
    "3. **Seleccionar los dos modelos que proporcionen el mejor rendimiento**\n",
    "\n",
    "\n",
    "4. **Ajustar los dos mejores modelos.**\n",
    "\n",
    "\n",
    "5. **Elegir el modelo individual final.**\n",
    "\n",
    "\n"
   ]
  }
 ],
 "metadata": {
  "kernelspec": {
   "display_name": "Python 3.9.7 ('.env': venv)",
   "language": "python",
   "name": "python3"
  },
  "language_info": {
   "codemirror_mode": {
    "name": "ipython",
    "version": 3
   },
   "file_extension": ".py",
   "mimetype": "text/x-python",
   "name": "python",
   "nbconvert_exporter": "python",
   "pygments_lexer": "ipython3",
   "version": "3.9.7"
  },
  "orig_nbformat": 4,
  "vscode": {
   "interpreter": {
    "hash": "842ea6a284c0768e4a2219e39e4f6378de4471fb64c90387f3eacce26856343b"
   }
  }
 },
 "nbformat": 4,
 "nbformat_minor": 2
}
