{
 "cells": [
  {
   "cell_type": "markdown",
   "metadata": {},
   "source": [
    "# Avance 3. Baseline\n",
    "\n",
    "# Respuestas a las preguntas\n",
    "1. **¿Qué algoritmo se puede utilizar como baseline para predecir las variables objetivo?**\n",
    "   \n",
    "En nuestro caso, hemos implementado dos modelos basados en los servicios de Azure. El primero se encarga de la clasificación de documentos, mientras que el segundo se dedica a la identificación y extracción de información. Además, ambos algoritmos pueden potenciarse mediante la integración de los modelos preentrenados de Azure Form Recognizer, que aplican técnicas avanzadas de deep learning y transfer learning para optimizar la clasificación y extracción de datos.\n",
    "\n",
    "2. **¿Se puede determinar la importancia de las características para el modelo generado?**\n",
    "\n",
    "Si para este caso realizamos el etiquetado de los documentos a clasificar, los cuales tienen caracteristicas notorias como ciertas imagenes, longitud de documento, secciones las cuales son interpretadas por el modeo de clasificación.\n",
    "\n",
    "Se tienen las siguientes cantidades de datos:\n",
    "\n",
    "| Mes        | Datos de entrenamiento | Datos de prueba | Total |\n",
    "|------------|-------------------------|-----------------|-------|\n",
    "| Diciembre  | 7                       | 3               | 10    |\n",
    "| Noviembre  | 5                       | 2               | 7     |\n",
    "| Octubre    | 9                       | 4               | 13    |\n",
    "| **Total**  | 21                      | 9               | 30    |\n",
    "\n",
    "Dada la distribución de los actas como primer paso se van a clasificar 21 documentos de la siguiente manera:\n",
    "\n",
    "| Tipo de Acta               | Cantidad |\n",
    "|----------------------------|----------|\n",
    "| FNA Ahorro                 | 12       |\n",
    "| Fondo nacional del ahorro  | 9        |\n",
    "\n",
    "Se muestra la clasificación mediante etiquetado a los documentos del conjunto de pruebas:\n",
    "![Etiquetado](evidencias_avance_3/etiquetado.png \"Etiquetado\")\n",
    "\n",
    "Ejecutamos el entrenamiento para generar nuestro modelo:\n",
    "\n",
    "![Entrenamiento](evidencias_avance_3/entrenamiento.png \"Entrenamiento\")\n",
    "\n",
    "Ya teniendo nuestro modelo entrenado con los 21 documentos, vamos a evaluar el modelo con los 9 documentos:\n",
    "\n",
    "![Evaluación](evidencias_avance_3/evaluacion.png \"Evaluación\")\n",
    "\n",
    "A lo cual obtenemos los siguientes resultados:\n",
    "\n",
    "![Resultados](evidencias_avance_3/resultados.png \"Resultados\")\n",
    "\n",
    "3. **¿El modelo está sub/sobreajustando los datos de entrenamiento?**\n",
    "\n",
    "Se pudo ver que clasifico correctamente todos los documentos de prueba, además de un porcentaje de nivel de confianza bastante alto en la mayoria. Cabe resaltar que identifico documentos que fueron escaneados a blanco y negro como una imagen y lo clasifico de manera satisfactoria con un nivel de confianza del 90%.\n",
    "\n",
    "4. **¿Cuál es la métrica adecuada para este problema de negocio?**\n",
    "En este caso se tuvo una precisión de 100% ya que clasifico los documentos de pruebas satisfactoriamente y con un nivel de confianza bastante alto en la mayoría.\n",
    "\n",
    "5. **¿Cuál debería ser el desempeño mínimo a obtener?**\n",
    "Para el negocio en este punto debe tener un desempeño del 100% de precisión con un grado de confianza promedio mayor al 50% ya que son los documentos que van a ser procesados con otro modeo para su extración garantizando consistencia de datos y eficiencia en recursos.\n",
    "\n",
    "\n"
   ]
  }
 ],
 "metadata": {
  "kernelspec": {
   "display_name": "Python 3.9.7 ('.env': venv)",
   "language": "python",
   "name": "python3"
  },
  "language_info": {
   "name": "python",
   "version": "3.9.7"
  },
  "orig_nbformat": 4,
  "vscode": {
   "interpreter": {
    "hash": "842ea6a284c0768e4a2219e39e4f6378de4471fb64c90387f3eacce26856343b"
   }
  }
 },
 "nbformat": 4,
 "nbformat_minor": 2
}
