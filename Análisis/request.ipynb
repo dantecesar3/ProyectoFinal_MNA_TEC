{
 "cells": [
  {
   "cell_type": "code",
   "execution_count": 7,
   "metadata": {},
   "outputs": [
    {
     "name": "stdout",
     "output_type": "stream",
     "text": [
      "Status Code: 200\n",
      "Response JSON:\n",
      "{\n",
      "    \"clasification\": \"ActaTipo2\",\n",
      "    \"acta\": \"0080\",\n",
      "    \"fecha\": \"27/11/2024\",\n",
      "    \"actividades\": [\n",
      "        {\n",
      "            \"rol\": \"Técnico JAVA\",\n",
      "            \"horas\": \"112\",\n",
      "            \"nombre\": \"\",\n",
      "            \"semana\": \"\",\n",
      "            \"detalle\": \"\",\n",
      "            \"wi\": \"\"\n",
      "        },\n",
      "        {\n",
      "            \"rol\": \"Técnico JAVA\",\n",
      "            \"horas\": \"119\",\n",
      "            \"nombre\": \"\",\n",
      "            \"semana\": \"\",\n",
      "            \"detalle\": \"\",\n",
      "            \"wi\": \"\"\n",
      "        },\n",
      "        {\n",
      "            \"rol\": \"Técnico JAVA\",\n",
      "            \"horas\": \"136\",\n",
      "            \"nombre\": \"\",\n",
      "            \"semana\": \"\",\n",
      "            \"detalle\": \"\",\n",
      "            \"wi\": \"\"\n",
      "        },\n",
      "        {\n",
      "            \"rol\": \"Técnico de Integración ESB (ENTERPRISE SERVICE BUS)\",\n",
      "            \"horas\": \"103\",\n",
      "            \"nombre\": \"\",\n",
      "            \"semana\": \"\",\n",
      "            \"detalle\": \"\",\n",
      "            \"wi\": \"\"\n",
      "        },\n",
      "        {\n",
      "            \"rol\": \"Técnico de Integración ESB (ENTERPRISE SERVICE BUS)\",\n",
      "            \"horas\": \"76\",\n",
      "            \"nombre\": \"\",\n",
      "            \"semana\": \"\",\n",
      "            \"detalle\": \"\",\n",
      "            \"wi\": \"\"\n",
      "        },\n",
      "        {\n",
      "            \"rol\": \"Técnico SAP ABAP\",\n",
      "            \"horas\": \"160\",\n",
      "            \"nombre\": \"\",\n",
      "            \"semana\": \"\",\n",
      "            \"detalle\": \"\",\n",
      "            \"wi\": \"\"\n",
      "        }\n",
      "    ]\n",
      "}\n"
     ]
    }
   ],
   "source": [
    "import base64\n",
    "import json\n",
    "import requests\n",
    "\n",
    "def file_to_base64(file_path: str) -> None:\n",
    "    \"\"\"\n",
    "    Lee un archivo, lo convierte en una cadena codificada en Base64 y guarda el resultado en un archivo .txt.\n",
    "\n",
    "    :param file_path: Ruta del archivo a convertir.\n",
    "    :param output_path: Ruta del archivo de salida donde se guardará la cadena Base64.\n",
    "    \"\"\"\n",
    "    try:\n",
    "        with open(file_path, \"rb\") as file:\n",
    "            encoded_string = base64.b64encode(file.read()).decode(\"utf-8\")            \n",
    "            return encoded_string\n",
    "    except Exception as e:\n",
    "        print(f\"Error al procesar el archivo: {e}\")\n",
    "\n",
    "\n",
    "def send_request(base64_source=\"\"):  \n",
    "    url = \"https://acta-fna-recognizer.azurewebsites.net/api/ExtractData?code=2lXRMPrWvQ0VzQdyECcuFnId4rEnWHnbKAuuVAR-lRaJAzFuH0vWfw%3D%3D\"\n",
    "    headers = {\"Content-Type\": \"application/json\"}\n",
    "    data = json.dumps({\"base64Source\": base64_source})\n",
    "    \n",
    "    response = requests.post(url, headers=headers, data=data)\n",
    "    \n",
    "    print(\"Status Code:\", response.status_code)\n",
    "    print(\"Response JSON:\")\n",
    "    print(json.dumps(response.json(), indent=4, ensure_ascii=False))  # Formateado bonito\n",
    "\n",
    "def extract_information(route):\n",
    "    base64 = file_to_base64(route)\n",
    "    send_request(base64)\n",
    "\n",
    "route = 'datos/0080_FNA_ FSW_011_2024_ BolsaHoras firmada.pdf'\n",
    "extract_information(route)"
   ]
  }
 ],
 "metadata": {
  "kernelspec": {
   "display_name": "Python 3.10.0 64-bit",
   "language": "python",
   "name": "python3"
  },
  "language_info": {
   "codemirror_mode": {
    "name": "ipython",
    "version": 3
   },
   "file_extension": ".py",
   "mimetype": "text/x-python",
   "name": "python",
   "nbconvert_exporter": "python",
   "pygments_lexer": "ipython3",
   "version": "3.10.0"
  },
  "orig_nbformat": 4,
  "vscode": {
   "interpreter": {
    "hash": "2c907c1525a62808ef7522b59ac6550dde78124e2192ca381d0b620a3af58072"
   }
  }
 },
 "nbformat": 4,
 "nbformat_minor": 2
}
