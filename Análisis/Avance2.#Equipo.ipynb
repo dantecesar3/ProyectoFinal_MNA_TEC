{
 "cells": [
  {
   "cell_type": "markdown",
   "metadata": {},
   "source": [
    "# Entregable Avance 2 Equipo 22\n",
    "\n",
    "Esta semana por el tipo de proyecto se avanzo en el análisis del flujo, diseño de arquitectura y prueba de herramientas tecnológicas"
   ]
  },
  {
   "cell_type": "markdown",
   "metadata": {},
   "source": [
    "## Flujo de la solución\n",
    "\n",
    "![Flujo de Solucion](evidencias_avance_2/flujo_de_solucion.jpg \"Flujo de Solucion\")\n"
   ]
  },
  {
   "cell_type": "markdown",
   "metadata": {},
   "source": [
    "## Pruebas de almacenamiento de datos en la nube\n",
    "![Texto alternativo](evidencias_avance_2/datos_blob_azure.jpg \"Blob Storage - Datos\")\n"
   ]
  },
  {
   "cell_type": "markdown",
   "metadata": {},
   "source": [
    "## Probando servicio de Azure de modelo de clasificación de documentos\n",
    "\n",
    "\n",
    "![Modelo de clasificación en la nube](evidencias_avance_2/modelo_de_clasificacion.jpg \"Modelo de clasificación en la nube\")\n"
   ]
  },
  {
   "cell_type": "markdown",
   "metadata": {},
   "source": [
    "## Lista de modelos\n",
    "Generamos un modelo de prueba a partir de documentos de prueba, a lo cual el servicio solicito minimo 5 documentos por cada clasificación\n",
    "\n",
    "\n",
    "![Modelo entrenado de clasificacion](evidencias_avance_2/lista_de_modelos.jpg \"Modelo entrenado de clasificacion\")\n"
   ]
  }
 ],
 "metadata": {
  "kernelspec": {
   "display_name": "Python 3.9.7 ('.env': venv)",
   "language": "python",
   "name": "python3"
  },
  "language_info": {
   "name": "python",
   "version": "3.9.7"
  },
  "orig_nbformat": 4,
  "vscode": {
   "interpreter": {
    "hash": "842ea6a284c0768e4a2219e39e4f6378de4471fb64c90387f3eacce26856343b"
   }
  }
 },
 "nbformat": 4,
 "nbformat_minor": 2
}
